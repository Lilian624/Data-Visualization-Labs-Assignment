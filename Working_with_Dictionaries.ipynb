{
  "cells": [
    {
      "cell_type": "markdown",
      "metadata": {
        "id": "view-in-github",
        "colab_type": "text"
      },
      "source": [
        "<a href=\"https://colab.research.google.com/github/Lilian624/Data-Visualization-Labs-Assignment/blob/main/Working_with_Dictionaries.ipynb\" target=\"_parent\"><img src=\"https://colab.research.google.com/assets/colab-badge.svg\" alt=\"Open In Colab\"/></a>"
      ]
    },
    {
      "cell_type": "markdown",
      "metadata": {
        "id": "kXSnDidAroWJ"
      },
      "source": [
        "# Working with Dictionaries - Lab\n",
        "\n",
        "## Introduction\n",
        "Now that we know about dictionaries in Python, it is time to practice using them. In this lesson, you'll use your knowledge of dictionaries to retrieve and assign data about various cities.\n",
        "\n",
        "## Objectives\n",
        "\n",
        "You will be able to:\n",
        "\n",
        "* Assign values in a dictionary\n",
        "* Access keys and values in a dictionary\n",
        "\n",
        "## Instructions\n",
        "\n",
        "Here is a dictionary representing the city of Greenville, North Carolina.  The area is in kilometers squared."
      ]
    },
    {
      "cell_type": "code",
      "execution_count": 1,
      "metadata": {
        "id": "u_DhdJ2LroWK"
      },
      "outputs": [],
      "source": [
        "greenville = {'Area': 68, 'City': 'Greenville', 'Country': 'USA', 'Population': 84554}"
      ]
    },
    {
      "cell_type": "markdown",
      "metadata": {
        "id": "sDSEeStAroWL"
      },
      "source": [
        "> Remember to press shift + enter to run the code.\n",
        "\n",
        "Let's retrieve the population of the city and assign it to the variable `greenville_population`."
      ]
    },
    {
      "cell_type": "code",
      "execution_count": 2,
      "metadata": {
        "colab": {
          "base_uri": "https://localhost:8080/"
        },
        "id": "g-8xFq0UroWL",
        "outputId": "aa0ccaa6-ea66-463b-ccc0-bcd27ce90e12"
      },
      "outputs": [
        {
          "output_type": "execute_result",
          "data": {
            "text/plain": [
              "84554"
            ]
          },
          "metadata": {},
          "execution_count": 2
        }
      ],
      "source": [
        "greenville_population = greenville['Population'] # change None\n",
        "greenville_population # 84554"
      ]
    },
    {
      "cell_type": "markdown",
      "metadata": {
        "id": "TnAnNFH6roWL"
      },
      "source": [
        "Now retrieve the area of Greenville and assign it to the variable `greenville_area`."
      ]
    },
    {
      "cell_type": "code",
      "execution_count": 3,
      "metadata": {
        "colab": {
          "base_uri": "https://localhost:8080/"
        },
        "id": "_crgFDZ-roWM",
        "outputId": "c9022e6f-ab9c-483c-d072-bc7bcd4827d5"
      },
      "outputs": [
        {
          "output_type": "execute_result",
          "data": {
            "text/plain": [
              "68"
            ]
          },
          "metadata": {},
          "execution_count": 3
        }
      ],
      "source": [
        "greenville_area = greenville['Area']\n",
        "greenville_area # 68"
      ]
    },
    {
      "cell_type": "markdown",
      "metadata": {
        "id": "97RDsaxzroWM"
      },
      "source": [
        "Now let's take a look at all of the keys in the `greenville` dictionary and coerce them into a list.  Assign this variable to the list `city_keys`."
      ]
    },
    {
      "cell_type": "code",
      "execution_count": 4,
      "metadata": {
        "colab": {
          "base_uri": "https://localhost:8080/"
        },
        "id": "2xBYa7KvroWM",
        "outputId": "2c3d994d-fcbe-4aaa-f5f9-a500e4b18787"
      },
      "outputs": [
        {
          "output_type": "execute_result",
          "data": {
            "text/plain": [
              "['Area', 'City', 'Country', 'Population']"
            ]
          },
          "metadata": {},
          "execution_count": 4
        }
      ],
      "source": [
        "city_keys = list(greenville.keys())\n",
        "city_keys # ['Area', 'City', 'Country', 'Population']"
      ]
    },
    {
      "cell_type": "markdown",
      "metadata": {
        "id": "vjkzmPpProWM"
      },
      "source": [
        "Alright, next let's get all of the values in our greenville dictionary and coerce it into a list.  Assign that list to the variable `city_values`."
      ]
    },
    {
      "cell_type": "code",
      "execution_count": 6,
      "metadata": {
        "colab": {
          "base_uri": "https://localhost:8080/"
        },
        "id": "yzseNV0TroWM",
        "outputId": "1934883e-ab25-45f8-8efb-a883e8e04e39"
      },
      "outputs": [
        {
          "output_type": "execute_result",
          "data": {
            "text/plain": [
              "[68, 'Greenville', 'USA', 84554]"
            ]
          },
          "metadata": {},
          "execution_count": 6
        }
      ],
      "source": [
        "city_values = list(greenville.values())\n",
        "city_values # [68, 'Greenville', 'USA', 84554]"
      ]
    },
    {
      "cell_type": "markdown",
      "metadata": {
        "id": "RQDBGY7oroWN"
      },
      "source": [
        "## Working with multiple cities\n",
        "\n",
        "We can retrieve our data from an excel or Google sheet like the one [shown here](https://docs.google.com/spreadsheets/d/1BTJMMFH9t4p5UmHj5kiC6PGfMN6yaaaZkocx0mDqTK0/edit#gid=0) named Travel Cities and Countries.\n",
        "\n",
        "![](https://curriculum-content.s3.amazonaws.com/data-science/images/countries-cities.png)\n",
        "\n",
        "Luckily for us, we already have the spreadsheet downloaded and located in the current folder.  You can find the file (`cities.xlsx`) in this lesson's GitHub repository. Next, we will use a library called **Pandas** to get this data from the excel file into Python code. We already have the code for reading an excel file into Python written for us below. Let's check it out.\n",
        "\n",
        "> **Note:** To import a library or module in Python, we do so by writing `import` followed by the name of the thing we want to import. We can optionally include an *alias* for our import, which is done by writing **as** after the name of the thing we are importing followed by the name we would like to use for our *alias*. **Do not worry** about aliases right now. Just know that the *convention* for importing the Pandas library is to import it and alias it as `pd` like we see below.   \n",
        "We'll talk about packages and Pandas specifically in much more detail soon enough!"
      ]
    },
    {
      "cell_type": "code",
      "execution_count": 9,
      "metadata": {
        "id": "QH5reg69roWN"
      },
      "outputs": [],
      "source": [
        "import pandas as pd\n",
        "file_name = './cities.xlsx'\n",
        "travel_df = pd.read_excel(file_name)\n",
        "cities = travel_df.to_dict('records')"
      ]
    },
    {
      "cell_type": "markdown",
      "metadata": {
        "id": "bmbtsxEBroWN"
      },
      "source": [
        "> Remember to press shift + enter.\n",
        "\n",
        "Great! We just used Pandas to read the data from our excel file and turn each row of data into a dictionary. Again, don't worry about exactly how Pandas is doing this, but know that Pandas is a great tool when trying to accomplish a task such as turning data from an excel file into data we can use in Python.\n",
        "\n",
        "Run the cell below to see what our data looks like now."
      ]
    },
    {
      "cell_type": "code",
      "execution_count": 10,
      "metadata": {
        "colab": {
          "base_uri": "https://localhost:8080/"
        },
        "id": "VxRToGkBroWN",
        "outputId": "7da20eb7-5b96-4f17-ef21-0a0cf67db700"
      },
      "outputs": [
        {
          "output_type": "execute_result",
          "data": {
            "text/plain": [
              "[{'City': 'Solta', 'Country': 'Croatia', 'Population': 1700, 'Area': 59},\n",
              " {'City': 'Greenville', 'Country': 'USA', 'Population': 84554, 'Area': 68},\n",
              " {'City': 'Buenos Aires',\n",
              "  'Country': 'Argentina',\n",
              "  'Population': 13591863,\n",
              "  'Area': 4758},\n",
              " {'City': 'Los Cabos',\n",
              "  'Country': 'Mexico',\n",
              "  'Population': 287651,\n",
              "  'Area': 3750},\n",
              " {'City': 'Walla Walla Valley',\n",
              "  'Country': 'USA',\n",
              "  'Population': 32237,\n",
              "  'Area': 33},\n",
              " {'City': 'Marakesh', 'Country': 'Morocco', 'Population': 928850, 'Area': 200},\n",
              " {'City': 'Albuquerque',\n",
              "  'Country': 'New Mexico',\n",
              "  'Population': 559277,\n",
              "  'Area': 491},\n",
              " {'City': 'Archipelago Sea',\n",
              "  'Country': 'Finland',\n",
              "  'Population': 60000,\n",
              "  'Area': 8300},\n",
              " {'City': 'Iguazu Falls',\n",
              "  'Country': 'Argentina',\n",
              "  'Population': 0,\n",
              "  'Area': 672},\n",
              " {'City': 'Salina Island', 'Country': 'Italy', 'Population': 4000, 'Area': 27},\n",
              " {'City': 'Toronto', 'Country': 'Canada', 'Population': 630, 'Area': 2731571},\n",
              " {'City': 'Pyeongchang',\n",
              "  'Country': 'South Korea',\n",
              "  'Population': 2581000,\n",
              "  'Area': 3194}]"
            ]
          },
          "metadata": {},
          "execution_count": 10
        }
      ],
      "source": [
        "cities"
      ]
    },
    {
      "cell_type": "markdown",
      "metadata": {
        "id": "2ZcycyfHroWN"
      },
      "source": [
        "Now we will work with reading and manipulating this list of dictionaries, `cities`.\n",
        "\n",
        "### Working with our list of cities\n",
        "\n",
        "First, access the third to last element and set it equal to the variable `salina`."
      ]
    },
    {
      "cell_type": "code",
      "execution_count": 11,
      "metadata": {
        "colab": {
          "base_uri": "https://localhost:8080/"
        },
        "id": "I9wC5GW3roWN",
        "outputId": "bf2ae660-86ea-466a-8e86-618e6c9c7ff0"
      },
      "outputs": [
        {
          "output_type": "execute_result",
          "data": {
            "text/plain": [
              "{'City': 'Salina Island', 'Country': 'Italy', 'Population': 4000, 'Area': 27}"
            ]
          },
          "metadata": {},
          "execution_count": 11
        }
      ],
      "source": [
        "salina = cities[-3]\n",
        "salina\n",
        "# {'Area': 27, 'City': 'Salina Island', 'Country': 'Italy', 'Population': 4000}"
      ]
    },
    {
      "cell_type": "markdown",
      "metadata": {
        "id": "QnvqmprZroWO"
      },
      "source": [
        "Now access the fourth city in the list, and set its population equal to a variable called `los_cabos_pop`."
      ]
    },
    {
      "cell_type": "code",
      "execution_count": 12,
      "metadata": {
        "colab": {
          "base_uri": "https://localhost:8080/"
        },
        "id": "ny0sj-M9roWO",
        "outputId": "e167d57a-7584-438d-b5ff-47a0406fdc61"
      },
      "outputs": [
        {
          "output_type": "execute_result",
          "data": {
            "text/plain": [
              "287651"
            ]
          },
          "metadata": {},
          "execution_count": 12
        }
      ],
      "source": [
        "los_cabos_pop = cities[3]['Population']\n",
        "los_cabos_pop # 287651"
      ]
    },
    {
      "cell_type": "markdown",
      "metadata": {
        "id": "t74DLeTbroWO"
      },
      "source": [
        "Now calculate the number of cities in the list and assign the number to the variable `city_count`."
      ]
    },
    {
      "cell_type": "code",
      "execution_count": 13,
      "metadata": {
        "scrolled": true,
        "colab": {
          "base_uri": "https://localhost:8080/"
        },
        "id": "GcCIkagoroWO",
        "outputId": "d30666a7-7920-41e5-eba7-e61213a3756c"
      },
      "outputs": [
        {
          "output_type": "execute_result",
          "data": {
            "text/plain": [
              "12"
            ]
          },
          "metadata": {},
          "execution_count": 13
        }
      ],
      "source": [
        "city_count = len(cities)\n",
        "city_count # 12"
      ]
    },
    {
      "cell_type": "markdown",
      "metadata": {
        "id": "Gqj590k3roWO"
      },
      "source": [
        "Finally, change the spelling of the South Korean city, Pyeongchang, to the string `'PyeongChang'`, its alternative spelling."
      ]
    },
    {
      "cell_type": "code",
      "execution_count": 14,
      "metadata": {
        "colab": {
          "base_uri": "https://localhost:8080/",
          "height": 35
        },
        "id": "mIUO1ZcrroWO",
        "outputId": "7e1c8af4-6cdb-4ac9-db3f-2b0d72ec1483"
      },
      "outputs": [
        {
          "output_type": "execute_result",
          "data": {
            "text/plain": [
              "'PyeongChang'"
            ],
            "application/vnd.google.colaboratory.intrinsic+json": {
              "type": "string"
            }
          },
          "metadata": {},
          "execution_count": 14
        }
      ],
      "source": [
        "cities[11]['City'] = \"PyeongChang\"\n",
        "cities[11]['City'] # 'PyeongChang'"
      ]
    },
    {
      "cell_type": "markdown",
      "metadata": {
        "id": "31DB7M5proWP"
      },
      "source": [
        "Now let's work on retrieving a collection of information about a dictionary.  Use the appropriate dictionary method to return a list of values in the dictionary regarding Pyeongchang.  Assign the list to the variable `pyeongchang_values`."
      ]
    },
    {
      "cell_type": "code",
      "execution_count": 15,
      "metadata": {
        "colab": {
          "base_uri": "https://localhost:8080/"
        },
        "id": "Mq4UH5OxroWP",
        "outputId": "64db1e27-af14-4940-fa25-c971bc462e1a"
      },
      "outputs": [
        {
          "output_type": "execute_result",
          "data": {
            "text/plain": [
              "list"
            ]
          },
          "metadata": {},
          "execution_count": 15
        }
      ],
      "source": [
        "pyeongchang_values = list(cities[11].values())\n",
        "\n",
        "pyeongchang_values # ['PyeongChang', 'South Korea', 2581000, 3194]\n",
        "type(pyeongchang_values) # list"
      ]
    },
    {
      "cell_type": "markdown",
      "metadata": {
        "id": "q_5nbeiAroWP"
      },
      "source": [
        "And now set `pyeongchang_keys` equal to a list of keys in the dictionary regarding Pyeongchang."
      ]
    },
    {
      "cell_type": "code",
      "execution_count": 16,
      "metadata": {
        "colab": {
          "base_uri": "https://localhost:8080/"
        },
        "id": "B8c91jviroWP",
        "outputId": "59d5ca26-a328-476d-8a00-2b369d5656cd"
      },
      "outputs": [
        {
          "output_type": "execute_result",
          "data": {
            "text/plain": [
              "list"
            ]
          },
          "metadata": {},
          "execution_count": 16
        }
      ],
      "source": [
        "pyeongchang_keys = list(cities[11].keys())\n",
        "\n",
        "\n",
        "pyeongchang_keys # ['City', 'Country', 'Population', 'Area']\n",
        "type(pyeongchang_keys) # list"
      ]
    },
    {
      "cell_type": "markdown",
      "metadata": {
        "id": "54iWOIEBroWP"
      },
      "source": [
        "## Summary\n",
        "\n",
        "In this section, we saw how to assign, retrieve, and re-assign data in a dictionary.  We saw how we can retrieve a collection of information from a dictionary, like a list of its keys and values, and we saw how we can work with a list of dictionaries."
      ]
    }
  ],
  "metadata": {
    "kernelspec": {
      "display_name": "Python (learn-env)",
      "language": "python",
      "name": "learn-env"
    },
    "language_info": {
      "codemirror_mode": {
        "name": "ipython",
        "version": 3
      },
      "file_extension": ".py",
      "mimetype": "text/x-python",
      "name": "python",
      "nbconvert_exporter": "python",
      "pygments_lexer": "ipython3",
      "version": "3.8.5"
    },
    "colab": {
      "provenance": [],
      "include_colab_link": true
    }
  },
  "nbformat": 4,
  "nbformat_minor": 0
}